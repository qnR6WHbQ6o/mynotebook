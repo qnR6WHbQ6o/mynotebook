{
 "cells": [
  {
   "cell_type": "code",
   "execution_count": 1,
   "id": "6b418a71-9b8a-41e2-94e2-d9fb65f9c734",
   "metadata": {},
   "outputs": [],
   "source": [
    "import pandas"
   ]
  },
  {
   "cell_type": "markdown",
   "id": "7cb0b0a0-e631-43d6-9a48-5037ff761f99",
   "metadata": {
    "tags": []
   },
   "source": [
    "1. #10 minutes to pandas"
   ]
  },
  {
   "cell_type": "code",
   "execution_count": 3,
   "id": "da8fa4c1-ed56-441f-bb7f-ea9c5120e2c4",
   "metadata": {},
   "outputs": [],
   "source": [
    "import pandas as pd\n",
    "import numpy as np"
   ]
  },
  {
   "cell_type": "code",
   "execution_count": null,
   "id": "11f74c0d-6511-4062-b189-a503b62c119e",
   "metadata": {},
   "outputs": [],
   "source": [
    "## o"
   ]
  }
 ],
 "metadata": {
  "kernelspec": {
   "display_name": "Python 3 (ipykernel)",
   "language": "python",
   "name": "python3"
  },
  "language_info": {
   "codemirror_mode": {
    "name": "ipython",
    "version": 3
   },
   "file_extension": ".py",
   "mimetype": "text/x-python",
   "name": "python",
   "nbconvert_exporter": "python",
   "pygments_lexer": "ipython3",
   "version": "3.9.9"
  }
 },
 "nbformat": 4,
 "nbformat_minor": 5
}
